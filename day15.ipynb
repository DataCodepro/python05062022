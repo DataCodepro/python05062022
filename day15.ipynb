{
 "cells": [
  {
   "cell_type": "code",
   "execution_count": 1,
   "metadata": {},
   "outputs": [],
   "source": [
    "#Work Title :PHONE STORE (MOBILE SHOP) RECORD MANGEMENT\n",
    "#A smart phone dealer in the locality is very worried about his records as his assistant is not serious\n",
    "#about the turnover.He can't change his assitant because he is one from the family and therefore it turns out\n",
    "#to be great problem for Simeon's store. Simeon's discussed this problem with one of his friends and \n",
    "#he suggested he use a computer program and manage this list of phones by himself.His friends did\n",
    "#a favor\n",
    "#Write a python program using class and object with the class having the following attributes\n",
    "#Pname,modelno, and price of the phone: having the following method called getprice,getmodel use input to get values\n",
    "#for the attribute\n",
    "#Also Advice Simeon what to do with is brother\n",
    "#30MIN 10 marks"
   ]
  },
  {
   "cell_type": "code",
   "execution_count": 1,
   "metadata": {},
   "outputs": [
    {
     "name": "stdout",
     "output_type": "stream",
     "text": [
      "------The list of the phone that the store have---------\n",
      "1 .  Samsung Galaxy:SUM25854::180000\n"
     ]
    }
   ],
   "source": [
    "class phones:\n",
    "    def __init__(self,PhoneName,ModelNumber,Price):\n",
    "        self.PhoneName = PhoneName\n",
    "        self.ModelNumber= ModelNumber\n",
    "        self.Price = Price\n",
    "    def getprice(self):\n",
    "        return self.Price\n",
    "    def getmodel(self):\n",
    "        return self.ModelNumber\n",
    "    def __str__(self):\n",
    "        return self.PhoneName + ':'+str(self.getmodel())+'::' + str(self.getprice())\n",
    "def prices(rec,PhoneName,ModelNumber,Price):\n",
    "    rec.append(phones(PhoneName,ModelNumber,Price))\n",
    "    return rec\n",
    "record = []\n",
    "x = input('enter Y as yes and N as no to enter phone details')\n",
    "while x == 'Y':\n",
    "    PhoneName= input('Phone Name:')\n",
    "    ModelNumber = input(' Model Number:')\n",
    "    price =input('Price:')\n",
    "    record =prices(record,PhoneName,ModelNumber,price)\n",
    "    x = input('enter Y as yes and N as no to enter phone details')\n",
    "n = 1\n",
    "print(\"------The list of the phone that the store have---------\")\n",
    "for item in record:\n",
    "    print(n, '. ', item)\n",
    "    n = n + 1"
   ]
  },
  {
   "cell_type": "code",
   "execution_count": 4,
   "metadata": {},
   "outputs": [],
   "source": [
    "file = open('demo.doc','w')\n",
    "file.write('''Work Title :PHONE STORE (MOBILE SHOP) RECORD MANGEMENT\n",
    "#A smart phone dealer in the locality is very worried about his records as his assistant is not serious\n",
    "#about the turnover.He can't change his assitant because he is one from the family and therefore it turns out\n",
    "#to be great problem for Simeon's store. Simeon's discussed this problem with one of his friends and \n",
    "#he suggested he use a computer program and manage this list of phones by himself.His friends did\n",
    "#a favor''')\n",
    "file.close()"
   ]
  },
  {
   "cell_type": "code",
   "execution_count": 5,
   "metadata": {},
   "outputs": [
    {
     "name": "stdout",
     "output_type": "stream",
     "text": [
      "print('Python class')\n",
      "name = 'simeon' # assigning a string value to variable name\n",
      "print(name)\n",
      "number1 = 15 # assigning an integer value to variable number1\n",
      "number2 = 12.5 # assigning a floating value to variable number2\n",
      "X =True # assigning a boolean value to variable name\n",
      "\n",
      "\n",
      "word = 'we\\'re brothers from the other side of the town' # backward slash denotes escape character\n",
      "print(word)\n",
      "print('\\n')# backward slash + n denotes new line\n",
      "word2 = \"we're brothers from the other side of the town\"\n",
      "print(word2)\n",
      "\n",
      "\n",
      "word3 = 'Hey python is fun,\\nare you considering learning it,\\ndo so you will enjoy it'\n",
      "print(word3)\n",
      "print('\\n')\n",
      "word4 = '''Hey python is fun,\n",
      "are you considering learning it\n",
      "do so you will enjoy it\n",
      "'''\n",
      "print(word4)\n",
      "\n",
      "\n",
      "print('Hello' + ' '+'World')\n",
      "print('my name is'+ ' '+ name)\n",
      "\n",
      "secondname= 'Paul'\n",
      "print(name + ' '+secondname)\n",
      "print(f'my name is {number1}')\n",
      "\n"
     ]
    }
   ],
   "source": [
    "file1 = open('day1.py','r')\n",
    "print(file1.read())\n",
    "file1.close()"
   ]
  },
  {
   "cell_type": "code",
   "execution_count": null,
   "metadata": {},
   "outputs": [],
   "source": []
  }
 ],
 "metadata": {
  "interpreter": {
   "hash": "dc07d24e2f18896857f0b2a651fe84ba40ce7b297e58d8804a308c8039f752a6"
  },
  "kernelspec": {
   "display_name": "Python 3.8.5 ('base')",
   "language": "python",
   "name": "python3"
  },
  "language_info": {
   "codemirror_mode": {
    "name": "ipython",
    "version": 3
   },
   "file_extension": ".py",
   "mimetype": "text/x-python",
   "name": "python",
   "nbconvert_exporter": "python",
   "pygments_lexer": "ipython3",
   "version": "3.8.5"
  },
  "orig_nbformat": 4
 },
 "nbformat": 4,
 "nbformat_minor": 2
}
