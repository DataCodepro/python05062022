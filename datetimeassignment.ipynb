{
 "cells": [
  {
   "cell_type": "code",
   "execution_count": 2,
   "metadata": {},
   "outputs": [
    {
     "name": "stdout",
     "output_type": "stream",
     "text": [
      "The total score of 5 questions is 20 in 34 seconds\n"
     ]
    }
   ],
   "source": [
    "import datetime\n",
    "import random\n",
    "scorelist = []\n",
    "timelist = []\n",
    "counter = 1\n",
    "while counter <= 5:\n",
    "    num1 = random.randint(10,99)\n",
    "    num2 = random.randint(10,99)\n",
    "    starttime = datetime.datetime.now()\n",
    "    answer = int(input(f'{num1} + {num2} = '))\n",
    "    stoptime = datetime.datetime.now()\n",
    "    if answer == sum([num1,num2]):\n",
    "        scorelist.append(5)\n",
    "    else:\n",
    "        scorelist.append(0)\n",
    "    diff = stoptime - starttime\n",
    "    timelist.append(diff.seconds)\n",
    "    counter +=1\n",
    "print(f'The total score of 5 questions is {sum(scorelist)} in {sum(timelist)} seconds')"
   ]
  },
  {
   "cell_type": "code",
   "execution_count": null,
   "metadata": {},
   "outputs": [],
   "source": []
  }
 ],
 "metadata": {
  "kernelspec": {
   "display_name": "Python 3.8.5 ('base')",
   "language": "python",
   "name": "python3"
  },
  "language_info": {
   "codemirror_mode": {
    "name": "ipython",
    "version": 3
   },
   "file_extension": ".py",
   "mimetype": "text/x-python",
   "name": "python",
   "nbconvert_exporter": "python",
   "pygments_lexer": "ipython3",
   "version": "3.8.5"
  },
  "orig_nbformat": 4,
  "vscode": {
   "interpreter": {
    "hash": "dc07d24e2f18896857f0b2a651fe84ba40ce7b297e58d8804a308c8039f752a6"
   }
  }
 },
 "nbformat": 4,
 "nbformat_minor": 2
}
