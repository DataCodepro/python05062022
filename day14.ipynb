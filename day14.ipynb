{
 "cells": [
  {
   "cell_type": "code",
   "execution_count": 1,
   "metadata": {},
   "outputs": [],
   "source": [
    "#Error Handling\n",
    "#try\n",
    "#except\n",
    "#else\n",
    "#finally"
   ]
  },
  {
   "cell_type": "code",
   "execution_count": 7,
   "metadata": {},
   "outputs": [
    {
     "name": "stdout",
     "output_type": "stream",
     "text": [
      "95\n",
      "You have encounter one or more errors\n"
     ]
    }
   ],
   "source": [
    "try:\n",
    "    num1 = int(input('Please provide the first number:'))\n",
    "    num2 = int(input('Please provide the second number:'))\n",
    "    print(num1 + num2)\n",
    "    print(num1.upper())\n",
    "except:\n",
    "    print('You have encounter one or more errors')"
   ]
  },
  {
   "cell_type": "code",
   "execution_count": 10,
   "metadata": {},
   "outputs": [
    {
     "name": "stdout",
     "output_type": "stream",
     "text": [
      "57\n"
     ]
    }
   ],
   "source": [
    "try:\n",
    "    num1 = int(input('Please provide the first number:'))\n",
    "    num2 = int(input('Please provide the second number:'))\n",
    "    print(num1 + num2)\n",
    "except ValueError:\n",
    "    print('Wrong value provided')\n",
    "except AttributeError:\n",
    "    print('Wrong fuction on integer attribute')\n",
    "except:\n",
    "    print('You have encounter one or more errors')"
   ]
  },
  {
   "cell_type": "code",
   "execution_count": 12,
   "metadata": {},
   "outputs": [
    {
     "name": "stdout",
     "output_type": "stream",
     "text": [
      "47\n",
      "2025\n"
     ]
    }
   ],
   "source": [
    "try:\n",
    "    num1 = int(input('Please provide the first number:'))\n",
    "    num2 = int(input('Please provide the second number:'))\n",
    "    print(num1 + num2)\n",
    "except ValueError:\n",
    "    print('Wrong value provided')\n",
    "except AttributeError:\n",
    "    print('Wrong fuction on integer attribute')\n",
    "except:\n",
    "    print('You have encounter one or more errors')\n",
    "else:\n",
    "    print(num1 ** num2)"
   ]
  },
  {
   "cell_type": "code",
   "execution_count": 16,
   "metadata": {},
   "outputs": [
    {
     "name": "stdout",
     "output_type": "stream",
     "text": [
      "Wrong value provided\n",
      "End of program\n"
     ]
    }
   ],
   "source": [
    "try:\n",
    "    num1 = int(input('Please provide the first number:'))\n",
    "    num2 = int(input('Please provide the second number:'))\n",
    "    print(num1 + num2)\n",
    "except ValueError:\n",
    "    print('Wrong value provided')\n",
    "except AttributeError:\n",
    "    print('Wrong fuction on integer attribute')\n",
    "except:\n",
    "    print('You have encounter one or more errors')\n",
    "else:\n",
    "    print(num1 ** num2)\n",
    "finally:\n",
    "    print('End of program')"
   ]
  },
  {
   "cell_type": "code",
   "execution_count": 17,
   "metadata": {},
   "outputs": [],
   "source": [
    "#Exercise\n",
    "#using error handling write a simple calculator given the user the liberty to\n",
    "#choose which operation they want to performe handling the following errors \n",
    "# TypeError, ValueError, AttributeError,EOFError,ZeroDivisionError and all other errors\n",
    "# under the else block write a condition to check if both numbers are even number or odd number \n",
    "# or one is even and the other is odd\n",
    "# under finally print a statement that says \"HEY IT's INTRESTING TO BE A PROGRAMMER END OF PROGRAMM!!!!\"\n",
    "# 5 marks "
   ]
  },
  {
   "cell_type": "code",
   "execution_count": null,
   "metadata": {},
   "outputs": [],
   "source": [
    "try:\n",
    "    num1 = int(input('Please provide the first number:'))\n",
    "    num2 = int(input('Please provide the second number:'))\n",
    "    choice = input('''Choose f your operation\n",
    "+: Addition\n",
    "- :Subtraction\n",
    "/ :Division\n",
    "*:Multiplication\n",
    "''')\n",
    "    if choice == '+':\n",
    "        print(f'{num1} + {num2} = {num1 + num2}')\n",
    "    elif choice == '-':\n",
    "        print(f'{num1} - {num2} = {num1 - num2}')\n",
    "    elif choice == '/':\n",
    "        print(f'{num1} / {num2} = {num1 / num2}')\n",
    "    elif choice == '*':\n",
    "        print(f'{num1} x {num2} = {num1 * num2}')\n",
    "except ValueError:\n",
    "    print('Wrong Value Provided')\n",
    "except TypeError:\n",
    "    print('Invalid Data Type operation')\n",
    "except AttributeError:\n",
    "    print('Wrong fuction on integer attribute')\n",
    "except EOFError:\n",
    "    print('One of the bracket is missing')\n",
    "except ZeroDivisionError:\n",
    "    print('A number cannot be divisible by Zero')\n",
    "except:\n",
    "    print('You have encountered one or more errors')\n",
    "else:\n",
    "    if num1 % 2 ==0 and num2 % 2 == 0:\n",
    "        print('Both the value of num1 and num2 are even number')\n",
    "    elif num1 % 2 !=0 and num2 % 2 != 0:\n",
    "        print('Both the value of num1 and num2 are odd number')\n",
    "    elif num1 % 2 !=0 and num2 % 2 == 0:\n",
    "        print('The value of num1 is an Odd number while the value num2 is an Even number')\n",
    "    elif num1 % 2 ==0 and num2 % 2 != 0:\n",
    "        print('The value of num1 is an Even number while the value num2 is an Odd number')\n",
    "finally:\n",
    "    print('HEY IT\\'s INTRESTING TO BE A PROGRAMMER END OF PROGRAMM!!!!')"
   ]
  }
 ],
 "metadata": {
  "interpreter": {
   "hash": "a9cff5a362bc38ef45d817ae74b1af54d6a076e3d773891282bce078b815ba34"
  },
  "kernelspec": {
   "display_name": "Python 3.10.2 64-bit",
   "language": "python",
   "name": "python3"
  },
  "language_info": {
   "codemirror_mode": {
    "name": "ipython",
    "version": 3
   },
   "file_extension": ".py",
   "mimetype": "text/x-python",
   "name": "python",
   "nbconvert_exporter": "python",
   "pygments_lexer": "ipython3",
   "version": "3.10.4"
  },
  "orig_nbformat": 4
 },
 "nbformat": 4,
 "nbformat_minor": 2
}
