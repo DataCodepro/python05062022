{
 "cells": [
  {
   "cell_type": "code",
   "execution_count": 1,
   "metadata": {},
   "outputs": [
    {
     "data": {
      "text/plain": [
       "3125"
      ]
     },
     "execution_count": 1,
     "metadata": {},
     "output_type": "execute_result"
    }
   ],
   "source": [
    "(lambda x: x**x)(5)"
   ]
  },
  {
   "cell_type": "code",
   "execution_count": 2,
   "metadata": {},
   "outputs": [
    {
     "data": {
      "text/plain": [
       "'78 is an even number'"
      ]
     },
     "execution_count": 2,
     "metadata": {},
     "output_type": "execute_result"
    }
   ],
   "source": [
    "# Execrise1\n",
    "# Write a lambda function to check if a given number is an even number or odd number\n",
    "(lambda num:f'{num} is an even number' if num % 2 == 0 else f'{num} is an odd number')(int(input('Please provide a number')))"
   ]
  },
  {
   "cell_type": "code",
   "execution_count": 6,
   "metadata": {},
   "outputs": [
    {
     "data": {
      "text/plain": [
       "'Seyilaw1@ starts with Upper case and ends with a special character'"
      ]
     },
     "execution_count": 6,
     "metadata": {},
     "output_type": "execute_result"
    }
   ],
   "source": [
    "# Execrise2\n",
    "# Write a lambda function to check if a given passwword start with an uppercase letter and end with any special character\n",
    "(lambda password: f'{password} starts with Upper case and ends with a special character' if password[0] == password.upper() and password[-1] == '#' or password[-1]=='@' else False)(input('Please provide your password'))"
   ]
  },
  {
   "cell_type": "code",
   "execution_count": 7,
   "metadata": {},
   "outputs": [
    {
     "name": "stdout",
     "output_type": "stream",
     "text": [
      "['BINGO', 'CAPPY', 'WISKY', 'BANTY', 'HENRY']\n"
     ]
    }
   ],
   "source": [
    "dogs = ['bingo','cappy','wisky','banty','henry']\n",
    "updatelist =list(map(lambda x: str.upper(x),dogs))\n",
    "print(updatelist)"
   ]
  },
  {
   "cell_type": "code",
   "execution_count": 10,
   "metadata": {},
   "outputs": [
    {
     "name": "stdout",
     "output_type": "stream",
     "text": [
      "[50, 56, 49, 47, 69, 68, 68, 67, 52, 53, 56, 56, 53, 62, 52, 68, 45, 68, 52, 52, 62, 65, 68, 59, 50, 53, 68, 55, 64, 66, 68, 64, 66, 60, 62, 45, 57, 60, 58, 55, 56, 66, 61, 69, 57, 48, 46, 64, 66, 49]\n",
      "[7.0710678118654755, 7.483314773547883, 7.0, 6.855654600401044, 8.306623862918075, 8.246211251235321, 8.246211251235321, 8.18535277187245, 7.211102550927978, 7.280109889280518, 7.483314773547883, 7.483314773547883, 7.280109889280518, 7.874007874011811, 7.211102550927978, 8.246211251235321, 6.708203932499369, 8.246211251235321, 7.211102550927978, 7.211102550927978, 7.874007874011811, 8.06225774829855, 8.246211251235321, 7.681145747868608, 7.0710678118654755, 7.280109889280518, 8.246211251235321, 7.416198487095663, 8.0, 8.12403840463596, 8.246211251235321, 8.0, 8.12403840463596, 7.745966692414834, 7.874007874011811, 6.708203932499369, 7.54983443527075, 7.745966692414834, 7.615773105863909, 7.416198487095663, 7.483314773547883, 8.12403840463596, 7.810249675906654, 8.306623862918075, 7.54983443527075, 6.928203230275509, 6.782329983125268, 8.0, 8.12403840463596, 7.0]\n",
      "[50, 49, 47, 52, 53, 53, 52, 45, 52, 52, 50, 53, 55, 45, 55, 48, 46, 49]\n"
     ]
    }
   ],
   "source": [
    "import random as rn\n",
    "import math as m\n",
    "numbers = []\n",
    "counter = 1\n",
    "while counter <= 50:\n",
    "    num = rn.randint(45,70)\n",
    "    numbers.append(num)\n",
    "    counter +=1\n",
    "print(numbers)\n",
    "numsqrt = list(map(lambda x:m.sqrt(x),numbers))\n",
    "numfilter = list(filter(lambda x: x <= 55,numbers))\n",
    "print(numsqrt)\n",
    "print(numfilter)"
   ]
  },
  {
   "cell_type": "code",
   "execution_count": 11,
   "metadata": {},
   "outputs": [
    {
     "name": "stdout",
     "output_type": "stream",
     "text": [
      "['j13', 'p13']\n"
     ]
    }
   ],
   "source": [
    "jr = 'j'\n",
    "p = 'p'\n",
    "li = []\n",
    "n = rn.randint(12,25)\n",
    "strn =str(n)\n",
    "li.append(jr + strn)\n",
    "li.append(p + strn)\n",
    "print(li)"
   ]
  },
  {
   "cell_type": "code",
   "execution_count": null,
   "metadata": {},
   "outputs": [],
   "source": []
  }
 ],
 "metadata": {
  "interpreter": {
   "hash": "a9cff5a362bc38ef45d817ae74b1af54d6a076e3d773891282bce078b815ba34"
  },
  "kernelspec": {
   "display_name": "Python 3.10.2 64-bit",
   "language": "python",
   "name": "python3"
  },
  "language_info": {
   "codemirror_mode": {
    "name": "ipython",
    "version": 3
   },
   "file_extension": ".py",
   "mimetype": "text/x-python",
   "name": "python",
   "nbconvert_exporter": "python",
   "pygments_lexer": "ipython3",
   "version": "3.10.2"
  },
  "orig_nbformat": 4
 },
 "nbformat": 4,
 "nbformat_minor": 2
}
