{
 "cells": [
  {
   "cell_type": "code",
   "execution_count": 1,
   "metadata": {},
   "outputs": [
    {
     "data": {
      "text/plain": [
       "'Mammal'"
      ]
     },
     "execution_count": 1,
     "metadata": {},
     "output_type": "execute_result"
    }
   ],
   "source": [
    "class dog:\n",
    "    attr1= 'Mammal'\n",
    "    attr2 = 'bark'\n",
    "obj = dog()\n",
    "obj.attr1"
   ]
  },
  {
   "cell_type": "code",
   "execution_count": 3,
   "metadata": {},
   "outputs": [
    {
     "name": "stdout",
     "output_type": "stream",
     "text": [
      "Rocky belogns to the family of Mammal\n"
     ]
    }
   ],
   "source": [
    "class dog:\n",
    "    attr1= 'Mammal'\n",
    "    attr2 = 'bark'\n",
    "\n",
    "    def family(self):\n",
    "        print(f'Rocky belogns to the family of {self.attr1}')\n",
    "obj = dog()\n",
    "obj.family()"
   ]
  },
  {
   "cell_type": "code",
   "execution_count": 1,
   "metadata": {},
   "outputs": [
    {
     "name": "stdout",
     "output_type": "stream",
     "text": [
      "Mercilado Lamborghini has started\n",
      "None\n",
      "Gear has been changed to 4\n",
      "None\n",
      "Nitro Engaged\n",
      "None\n",
      "Mercilado Lamborghini has stopped Game Over!!!!!!!!!!!!!!!!!!!!!!!!!\n",
      "None\n"
     ]
    }
   ],
   "source": [
    "class car_simulation_game:\n",
    "    def __init__(self,Brand,Model,Color,Year,Speed):\n",
    "        self.Brand = Brand\n",
    "        self.Model = Model\n",
    "        self.Color = Color\n",
    "        self.Year = Year\n",
    "        self.Speed = Speed\n",
    "\n",
    "    def start(self):\n",
    "        print(f'{self.Model} {self.Brand} has started')\n",
    "    \n",
    "    def gear(self):\n",
    "        option = input('Please Choose your Gear')\n",
    "        if option == '1':\n",
    "            print('Gear has been changed to 1') \n",
    "        elif option == '2':\n",
    "            print('Gear has been changed to 2')\n",
    "        elif option == '3':\n",
    "            print('Gear has been changed to 3')\n",
    "        elif option == '4':\n",
    "            print('Gear has been changed to 4') \n",
    "        elif option == '5':\n",
    "            print('Gear has been changed to 5') \n",
    "        elif option == 'R':\n",
    "            print('Gear has been put on Reverse')\n",
    "    def nitro(self):\n",
    "        option = input('Please Choose enter 1 to engage your nitro or 2 to disengage your nitro')\n",
    "        if option == '1':\n",
    "            print('Nitro Engaged')\n",
    "        elif option == '2':\n",
    "            print('Nitro Disengaged')\n",
    "    def stop(self):\n",
    "        print(f'{self.Model} {self.Brand} has stopped Game Over!!!!!!!!!!!!!!!!!!!!!!!!!')\n",
    "car1 = car_simulation_game('Lamborghini','Mercilado','Black',2020,351)\n",
    "print(car1.start())\n",
    "print(car1.gear())\n",
    "print(car1.nitro())\n",
    "print(car1.stop())"
   ]
  },
  {
   "cell_type": "code",
   "execution_count": 2,
   "metadata": {},
   "outputs": [
    {
     "name": "stdout",
     "output_type": "stream",
     "text": [
      "ML Mercedez has started\n",
      "None\n",
      "Gear has been changed to 2\n",
      "None\n",
      "Nitro Disengaged\n",
      "None\n",
      "ML Mercedez has stopped Game Over!!!!!!!!!!!!!!!!!!!!!!!!!\n",
      "None\n"
     ]
    }
   ],
   "source": [
    "class F12(car_simulation_game):\n",
    "    def openroof(self):\n",
    "        option = input('1 to open roof or 2 to close roof')\n",
    "        if option  == '1':\n",
    "            print('Roof Open')\n",
    "        elif option == '2':\n",
    "            print('Roof Closed')\n",
    "car2 = F12('Mercedez', 'ML','Gray',2022,400)\n",
    "print(car2.start())\n",
    "print(car2.gear())\n",
    "print(car2.nitro())\n",
    "print(car2.stop())"
   ]
  },
  {
   "cell_type": "code",
   "execution_count": null,
   "metadata": {},
   "outputs": [],
   "source": []
  }
 ],
 "metadata": {
  "interpreter": {
   "hash": "dc07d24e2f18896857f0b2a651fe84ba40ce7b297e58d8804a308c8039f752a6"
  },
  "kernelspec": {
   "display_name": "Python 3.8.5 ('base')",
   "language": "python",
   "name": "python3"
  },
  "language_info": {
   "codemirror_mode": {
    "name": "ipython",
    "version": 3
   },
   "file_extension": ".py",
   "mimetype": "text/x-python",
   "name": "python",
   "nbconvert_exporter": "python",
   "pygments_lexer": "ipython3",
   "version": "3.8.5"
  },
  "orig_nbformat": 4
 },
 "nbformat": 4,
 "nbformat_minor": 2
}
