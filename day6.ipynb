{
 "cells": [
  {
   "cell_type": "code",
   "execution_count": 3,
   "metadata": {},
   "outputs": [
    {
     "name": "stdout",
     "output_type": "stream",
     "text": [
      "Welcome to python class\n",
      "None\n"
     ]
    }
   ],
   "source": [
    "def greet():# function without a parameter or argument\n",
    "    print('Welcome to python class')\n",
    "print(greet())\n"
   ]
  },
  {
   "cell_type": "code",
   "execution_count": 5,
   "metadata": {},
   "outputs": [
    {
     "name": "stdout",
     "output_type": "stream",
     "text": [
      "Welcome to python class Simeon\n",
      "None\n"
     ]
    }
   ],
   "source": [
    "def greet2(name):# function with a single parameter or argument\n",
    "    print(f'Welcome to python class {name}')\n",
    "print(greet2('Simeon'))"
   ]
  },
  {
   "cell_type": "code",
   "execution_count": 6,
   "metadata": {},
   "outputs": [
    {
     "name": "stdout",
     "output_type": "stream",
     "text": [
      "Welcome to python class Ade\n"
     ]
    }
   ],
   "source": [
    "greet2('Ade')"
   ]
  },
  {
   "cell_type": "code",
   "execution_count": 7,
   "metadata": {},
   "outputs": [
    {
     "name": "stdout",
     "output_type": "stream",
     "text": [
      "CANDIDATE DETAILS\n",
      "Name:Simeon Taiwo\n",
      "Gender:Male\n",
      "Age:28\n",
      "\n",
      "Congratulations you are eligible to vote\n"
     ]
    }
   ],
   "source": [
    "def person(name,gender,age):\n",
    "    print(f'''CANDIDATE DETAILS\n",
    "Name:{name}\n",
    "Gender:{gender}\n",
    "Age:{age}\n",
    "''')\n",
    "    if age >=18:\n",
    "        print('Congratulations you are eligible to vote')\n",
    "    else:\n",
    "        print('OOPS sorry you are below the required age, you are not eligible to vote')\n",
    "person('Simeon Taiwo','Male',28)\n",
    "\n"
   ]
  },
  {
   "cell_type": "code",
   "execution_count": 9,
   "metadata": {},
   "outputs": [
    {
     "name": "stdout",
     "output_type": "stream",
     "text": [
      "CANDIDATE DETAILS\n",
      "Name:Simeon Taiwo\n",
      "Gender:Male\n",
      "Age:18\n",
      "\n",
      "Congratulations you are eligible to vote\n"
     ]
    }
   ],
   "source": [
    "def vote(name,gender,age = 18):\n",
    "    print(f'''CANDIDATE DETAILS\n",
    "Name:{name}\n",
    "Gender:{gender}\n",
    "Age:{age}\n",
    "''')\n",
    "    if age >=18:\n",
    "        print('Congratulations you are eligible to vote')\n",
    "    else:\n",
    "        print('OOPS sorry you are below the required age, you are not eligible to vote')\n",
    "vote('Simeon Taiwo','Male')"
   ]
  },
  {
   "cell_type": "code",
   "execution_count": 10,
   "metadata": {},
   "outputs": [
    {
     "name": "stdout",
     "output_type": "stream",
     "text": [
      "CANDIDATE DETAILS\n",
      "Name:Simeon Taiwo\n",
      "Gender:Male\n",
      "Age:45\n",
      "\n",
      "Congratulations you are eligible to vote\n"
     ]
    }
   ],
   "source": [
    "vote('Simeon Taiwo','Male',45)"
   ]
  },
  {
   "cell_type": "code",
   "execution_count": null,
   "metadata": {},
   "outputs": [],
   "source": [
    "def gradingsystem():\n",
    "    score1 = int(input('Math Score:'))\n",
    "    score2 = int(input('English Score:'))\n",
    "    score3 = int(input('Chemistry Score:'))\n",
    "    score4 = int(input('Biology Score:'))\n",
    "    score5 = int(input('Physics Score:'))\n",
    "\n",
    "    avgscore = (score1 + score2 + score3 +score4 + score5)/5\n",
    "\n",
    "    if avgscore >= 70 and avgscore <= 100:\n",
    "        print(f'Your average score in 5 subject is {avgscore} your grade is A')\n",
    "    elif avgscore >= 60 and avgscore <= 69.99:\n",
    "        print(f'Your average score in 5 subject is {avgscore} your grade is B')\n",
    "    elif avgscore >= 55 and avgscore <= 59.99:\n",
    "        print(f'Your average score in 5 subject is {avgscore} your grade is C')\n",
    "    elif avgscore >= 50 and avgscore <= 54.99:\n",
    "        print(f'Your average score in 5 subject is {avgscore} your grade is D')\n",
    "    elif avgscore >= 40 and avgscore <= 49.99:\n",
    "        print(f'Your average score in 5 subject is {avgscore} your grade is E')\n",
    "    else:\n",
    "        print(f'Your average score in 5 subject is {avgscore} your grade is F')\n",
    "gradingsystem()"
   ]
  },
  {
   "cell_type": "code",
   "execution_count": 14,
   "metadata": {},
   "outputs": [
    {
     "name": "stdout",
     "output_type": "stream",
     "text": [
      "2024 is a leap year\n"
     ]
    }
   ],
   "source": [
    "#write a function to find the max of three numbers \n",
    "#write a function to find if a given a year is a leapyear\n",
    "def check_leap_year():\n",
    "    year =int(input('Please provide a year:'))\n",
    "    if (year % 400 ==0) and (year % 100 == 0):\n",
    "        print(f'{year} is a leap year')\n",
    "    elif (year % 4 ==0) and (year % 100 != 0):\n",
    "        print(f'{year} is a leap year')\n",
    "    else:\n",
    "        print(f'{year} is not  a leap year')\n",
    "check_leap_year()"
   ]
  },
  {
   "cell_type": "code",
   "execution_count": 15,
   "metadata": {},
   "outputs": [
    {
     "name": "stdout",
     "output_type": "stream",
     "text": [
      "<class 'tuple'>\n",
      "59.06666666666667\n"
     ]
    }
   ],
   "source": [
    "import statistics as st\n",
    "def average(*args):\n",
    "    print(type(args))\n",
    "    print(st.mean(args))\n",
    "average(85,45,89,10,25,80,95,90,78,45,14,26,59,87,58)"
   ]
  },
  {
   "cell_type": "code",
   "execution_count": 16,
   "metadata": {},
   "outputs": [
    {
     "name": "stdout",
     "output_type": "stream",
     "text": [
      "<class 'dict'>\n",
      "Name : Ojo\n",
      "Gender : Male\n",
      "Age : 30\n"
     ]
    }
   ],
   "source": [
    "def details(**kwargs):\n",
    "    print(type(kwargs))\n",
    "    for key,value in kwargs.items():\n",
    "        print(key, ':',value)\n",
    "details(Name ='Ojo',Gender = 'Male',Age = 30)"
   ]
  },
  {
   "cell_type": "code",
   "execution_count": null,
   "metadata": {},
   "outputs": [],
   "source": []
  }
 ],
 "metadata": {
  "interpreter": {
   "hash": "a9cff5a362bc38ef45d817ae74b1af54d6a076e3d773891282bce078b815ba34"
  },
  "kernelspec": {
   "display_name": "Python 3.10.2 64-bit",
   "language": "python",
   "name": "python3"
  },
  "language_info": {
   "codemirror_mode": {
    "name": "ipython",
    "version": 3
   },
   "file_extension": ".py",
   "mimetype": "text/x-python",
   "name": "python",
   "nbconvert_exporter": "python",
   "pygments_lexer": "ipython3",
   "version": "3.10.2"
  },
  "orig_nbformat": 4
 },
 "nbformat": 4,
 "nbformat_minor": 2
}
