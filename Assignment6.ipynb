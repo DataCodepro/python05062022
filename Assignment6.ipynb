{
 "cells": [
  {
   "cell_type": "code",
   "execution_count": 3,
   "metadata": {},
   "outputs": [
    {
     "name": "stdout",
     "output_type": "stream",
     "text": [
      "['JRN1170', 'JRN1570', 'JRN1952', 'JRN1950', 'JRN736', 'JRN1774', 'JRN353', 'JRN1678', 'JRN1710', 'JRN1671', 'JRN456', 'JRN1978', 'JRN879', 'JRN1874', 'JRN1879', 'JRN1321', 'JRN1667', 'JRN718', 'JRN978', 'JRN475', 'JRN1959', 'JRN160', 'JRN626', 'JRN1551', 'JRN1330', 'JRN1251', 'JRN620', 'JRN997', 'JRN962', 'JRN1358', 'JRN271', 'JRN1335', 'JRN1618', 'JRN1348', 'JRN1598', 'JRN999', 'JRN1559', 'JRN1866', 'JRN856', 'JRN942', 'JRN221', 'JRN311', 'JRN1092', 'JRN292', 'JRN1798', 'JRN578', 'JRN823', 'JRN1047', 'JRN220', 'JRN1232', 'JRN1205', 'JRN1926', 'JRN1968', 'JRN1967', 'JRN818', 'JRN529', 'JRN508', 'JRN1322', 'JRN204', 'JRN1575', 'JRN1133', 'JRN1462', 'JRN106', 'JRN1715', 'JRN259', 'JRN1225', 'JRN1712', 'JRN990', 'JRN841', 'JRN524', 'JRN134', 'JRN701', 'JRN1665', 'JRN629', 'JRN1050', 'JRN1479', 'JRN928', 'JRN534', 'JRN1139', 'JRN933', 'JRN858', 'JRN1603', 'JRN1527', 'JRN335', 'JRN1462', 'JRN1771', 'JRN1044', 'JRN130', 'JRN445', 'JRN907', 'JRN694', 'JRN529', 'JRN1983', 'JRN1517', 'JRN1696', 'JRN1940', 'JRN446', 'JRN1017', 'JRN567', 'JRN1612', 'JRN240', 'JRN556', 'JRN245', 'JRN1209', 'JRN976', 'JRN849', 'JRN1674', 'JRN906', 'JRN759', 'JRN1088', 'JRN438', 'JRN1651', 'JRN414', 'JRN172', 'JRN1771', 'JRN1251', 'JRN265', 'JRN1141', 'JRN338', 'JRN1963', 'JRN969', 'JRN738', 'JRN1306', 'JRN1489', 'JRN1686', 'JRN170', 'JRN1411', 'JRN1297', 'JRN286', 'JRN1841', 'JRN304', 'JRN1827', 'JRN245', 'JRN1801', 'JRN1671', 'JRN1574', 'JRN112', 'JRN1627', 'JRN699', 'JRN1927', 'JRN1877', 'JRN1643', 'JRN273', 'JRN1960', 'JRN379', 'JRN1755', 'JRN1798', 'JRN1236', 'JRN833', 'JRN582', 'JRN808', 'JRN490', 'JRN398', 'JRN1434', 'JRN423', 'JRN1801', 'JRN1308', 'JRN1122', 'JRN1099', 'JRN1830', 'JRN1900', 'JRN1476', 'JRN519', 'JRN1853', 'JRN1934', 'JRN912', 'JRN1780', 'JRN261', 'JRN703', 'JRN364', 'JRN1688', 'JRN332', 'JRN357', 'JRN1901', 'JRN987', 'JRN220', 'JRN1727', 'JRN1312', 'JRN1590', 'JRN424', 'JRN1353', 'JRN1571', 'JRN724', 'JRN1458', 'JRN972', 'JRN1579', 'JRN1394', 'JRN1453', 'JRN1449', 'JRN1354', 'JRN1387', 'JRN1981', 'JRN1914', 'JRN439', 'JRN1637', 'JRN1573', 'JRN817', 'JRN142', 'JRN659', 'JRN526', 'JRN885', 'JRN1559', 'JRN1258', 'JRN837', 'JRN186', 'JRN683', 'JRN495', 'JRN1572', 'JRN1305', 'JRN1663', 'JRN450', 'JRN313', 'JRN1950', 'JRN286', 'JRN317', 'JRN626', 'JRN999', 'JRN1723', 'JRN1446', 'JRN1395', 'JRN783', 'JRN1963', 'JRN502', 'JRN1277', 'JRN1740', 'JRN1725', 'JRN519', 'JRN1123', 'JRN716', 'JRN481', 'JRN1176', 'JRN1077', 'JRN1366', 'JRN421', 'JRN1094', 'JRN702', 'JRN1898', 'JRN479', 'JRN116', 'JRN309', 'JRN311', 'JRN110', 'JRN622', 'JRN817', 'JRN1041', 'JRN849', 'JRN866', 'JRN1725', 'JRN1957', 'JRN280', 'JRN1037', 'JRN767', 'JRN134', 'JRN1134', 'JRN698', 'JRN777', 'JRN456', 'JRN681', 'JRN1555', 'JRN935', 'JRN1131', 'JRN862', 'JRN1260', 'JRN1744', 'JRN417', 'JRN1310', 'JRN1236', 'JRN1198', 'JRN967', 'JRN231', 'JRN1886', 'JRN406', 'JRN673', 'JRN1790', 'JRN1933', 'JRN1905', 'JRN1420', 'JRN1897', 'JRN684', 'JRN805', 'JRN727', 'JRN1336', 'JRN1479', 'JRN362', 'JRN700', 'JRN702', 'JRN729', 'JRN1357', 'JRN291', 'JRN160', 'JRN214', 'JRN497', 'JRN1908', 'JRN1267', 'JRN389', 'JRN1377', 'JRN917', 'JRN781', 'JRN600', 'JRN787', 'JRN1641', 'JRN843', 'JRN1714', 'JRN1526', 'JRN1679', 'JRN1072', 'JRN398', 'JRN410', 'JRN1088', 'JRN929', 'JRN914', 'JRN1646', 'JRN233', 'JRN298', 'JRN911', 'JRN1888', 'JRN364', 'JRN212', 'JRN560', 'JRN1283', 'JRN515', 'JRN1935', 'JRN1407', 'JRN1843', 'JRN1639', 'JRN789', 'JRN760', 'JRN1500', 'JRN1167', 'JRN468', 'JRN1489', 'JRN115', 'JRN1284', 'JRN1487', 'JRN1369', 'JRN309', 'JRN1571', 'JRN1240', 'JRN1089', 'JRN1928', 'JRN1483', 'JRN811', 'JRN1888', 'JRN1006', 'JRN128', 'JRN1135', 'JRN905', 'JRN699', 'JRN1590', 'JRN964', 'JRN724', 'JRN1950', 'JRN151', 'JRN1261', 'JRN776', 'JRN619', 'JRN1654', 'JRN605', 'JRN1661', 'JRN1339', 'JRN1496', 'JRN1533', 'JRN1155', 'JRN718', 'JRN883', 'JRN440', 'JRN1611', 'JRN1622', 'JRN344', 'JRN364', 'JRN1959', 'JRN473', 'JRN1683', 'JRN1887', 'JRN1022', 'JRN1364', 'JRN1490', 'JRN1005', 'JRN1140', 'JRN136', 'JRN576', 'JRN1314', 'JRN350', 'JRN187', 'JRN1743', 'JRN408', 'JRN186', 'JRN1188', 'JRN1859', 'JRN1213', 'JRN1412', 'JRN220', 'JRN983', 'JRN483', 'JRN1567', 'JRN1598', 'JRN1049', 'JRN962', 'JRN1236', 'JRN284', 'JRN686', 'JRN494', 'JRN1727', 'JRN1147', 'JRN1799', 'JRN904', 'JRN785', 'JRN476', 'JRN855', 'JRN1905', 'JRN166', 'JRN154', 'JRN294', 'JRN1897', 'JRN459', 'JRN1987', 'JRN254', 'JRN1752', 'JRN112', 'JRN1098', 'JRN1051', 'JRN1779', 'JRN845', 'JRN745', 'JRN349', 'JRN983', 'JRN527', 'JRN1952', 'JRN1359', 'JRN693', 'JRN907', 'JRN1808', 'JRN1181', 'JRN1052', 'JRN1585', 'JRN383', 'JRN458', 'JRN542', 'JRN1770', 'JRN694', 'JRN635', 'JRN1540', 'JRN1898', 'JRN459', 'JRN1018', 'JRN1436', 'JRN979', 'JRN1673', 'JRN1171', 'JRN569', 'JRN803', 'JRN700', 'JRN1359', 'JRN168', 'JRN626', 'JRN1201', 'JRN1477', 'JRN787', 'JRN383', 'JRN1012', 'JRN681', 'JRN1126', 'JRN464', 'JRN335', 'JRN917', 'JRN1322', 'JRN365', 'JRN1100', 'JRN1573', 'JRN1443', 'JRN1539', 'JRN134', 'JRN1721', 'JRN947', 'JRN1224', 'JRN1151', 'JRN888', 'JRN454', 'JRN484', 'JRN681', 'JRN1486', 'JRN1265', 'JRN845', 'JRN206', 'JRN1675', 'JRN1579', 'JRN226', 'JRN936', 'JRN742', 'JRN276', 'JRN230', 'JRN477', 'JRN998', 'JRN1607', 'JRN1798', 'JRN1922', 'JRN1277', 'JRN522', 'JRN991', 'JRN938']\n"
     ]
    }
   ],
   "source": [
    "import random as rn\n",
    "junior = 'JRN'\n",
    "intermediate = 'ITM'\n",
    "senior = 'SRN'\n",
    "stafflist = []\n",
    "counter = 1\n",
    "while counter <= 500:\n",
    "    num = rn.randint(100,2001)\n",
    "    strnum = str(num)\n",
    "    stafflist.append(junior + strnum)\n",
    "    stafflist.append(intermediate + strnum)\n",
    "    stafflist.append(senior + strnum)\n",
    "    counter +=1\n",
    "\n",
    "junior_staff = list(filter(lambda x: x[0] == 'J',stafflist))\n",
    "print(junior_staff)"
   ]
  },
  {
   "cell_type": "code",
   "execution_count": null,
   "metadata": {},
   "outputs": [],
   "source": []
  }
 ],
 "metadata": {
  "interpreter": {
   "hash": "a9cff5a362bc38ef45d817ae74b1af54d6a076e3d773891282bce078b815ba34"
  },
  "kernelspec": {
   "display_name": "Python 3.10.2 64-bit",
   "language": "python",
   "name": "python3"
  },
  "language_info": {
   "codemirror_mode": {
    "name": "ipython",
    "version": 3
   },
   "file_extension": ".py",
   "mimetype": "text/x-python",
   "name": "python",
   "nbconvert_exporter": "python",
   "pygments_lexer": "ipython3",
   "version": "3.10.2"
  },
  "orig_nbformat": 4
 },
 "nbformat": 4,
 "nbformat_minor": 2
}
